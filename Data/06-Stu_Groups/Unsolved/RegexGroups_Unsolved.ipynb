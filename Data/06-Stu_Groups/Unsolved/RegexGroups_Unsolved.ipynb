{
 "cells": [
  {
   "cell_type": "code",
   "execution_count": 1,
   "metadata": {},
   "outputs": [],
   "source": [
    "import pandas as pd\n",
    "import re\n",
    "pd.options.display.max_colwidth = 100"
   ]
  },
  {
   "cell_type": "code",
   "execution_count": 2,
   "metadata": {},
   "outputs": [
    {
     "data": {
      "text/html": [
       "<div>\n",
       "<style scoped>\n",
       "    .dataframe tbody tr th:only-of-type {\n",
       "        vertical-align: middle;\n",
       "    }\n",
       "\n",
       "    .dataframe tbody tr th {\n",
       "        vertical-align: top;\n",
       "    }\n",
       "\n",
       "    .dataframe thead th {\n",
       "        text-align: right;\n",
       "    }\n",
       "</style>\n",
       "<table border=\"1\" class=\"dataframe\">\n",
       "  <thead>\n",
       "    <tr style=\"text-align: right;\">\n",
       "      <th></th>\n",
       "      <th>text</th>\n",
       "    </tr>\n",
       "  </thead>\n",
       "  <tbody>\n",
       "    <tr>\n",
       "      <th>0</th>\n",
       "      <td>ALICE’S ADVENTURES IN WONDERLAND</td>\n",
       "    </tr>\n",
       "    <tr>\n",
       "      <th>1</th>\n",
       "      <td>CHAPTER I. Down the Rabbit-Hole</td>\n",
       "    </tr>\n",
       "    <tr>\n",
       "      <th>2</th>\n",
       "      <td>Alice was beginning to get very tired of sitting by her sister on the</td>\n",
       "    </tr>\n",
       "    <tr>\n",
       "      <th>3</th>\n",
       "      <td>bank, and of having nothing to do: once or twice she had peeped into the</td>\n",
       "    </tr>\n",
       "    <tr>\n",
       "      <th>4</th>\n",
       "      <td>book her sister was reading, but it had no pictures or conversations in</td>\n",
       "    </tr>\n",
       "  </tbody>\n",
       "</table>\n",
       "</div>"
      ],
      "text/plain": [
       "                                                                       text\n",
       "0                                          ALICE’S ADVENTURES IN WONDERLAND\n",
       "1                                           CHAPTER I. Down the Rabbit-Hole\n",
       "2     Alice was beginning to get very tired of sitting by her sister on the\n",
       "3  bank, and of having nothing to do: once or twice she had peeped into the\n",
       "4   book her sister was reading, but it had no pictures or conversations in"
      ]
     },
     "execution_count": 2,
     "metadata": {},
     "output_type": "execute_result"
    }
   ],
   "source": [
    "# load in Alice in Wonderland text\n",
    "alice_file = '../Resources/alice.txt'\n",
    "\n",
    "alice_df = pd.read_csv(alice_file, sep='\\n', header=None)\n",
    "alice_df.columns = ['text']\n",
    "alice_df.head()"
   ]
  },
  {
   "cell_type": "code",
   "execution_count": 3,
   "metadata": {},
   "outputs": [
    {
     "ename": "SyntaxError",
     "evalue": "invalid syntax (3248882925.py, line 2)",
     "output_type": "error",
     "traceback": [
      "\u001b[0;36m  File \u001b[0;32m\"/var/folders/7l/nztwq03j46x19j52xdfz9cth0000gn/T/ipykernel_2302/3248882925.py\"\u001b[0;36m, line \u001b[0;32m2\u001b[0m\n\u001b[0;31m    p = # YOUR REGEX STRING HERE\u001b[0m\n\u001b[0m                                ^\u001b[0m\n\u001b[0;31mSyntaxError\u001b[0m\u001b[0;31m:\u001b[0m invalid syntax\n"
     ]
    }
   ],
   "source": [
    "# extract all words with 12 or more letters\n",
    "p = # YOUR REGEX STRING HERE\n",
    "alice_df['text'].str.extractall(p, flags=re.I).dropna()"
   ]
  },
  {
   "cell_type": "code",
   "execution_count": 4,
   "metadata": {},
   "outputs": [
    {
     "data": {
      "text/plain": [
       " was        17\n",
       " said       11\n",
       " thought    11\n",
       " had        10\n",
       " could      10\n",
       "            ..\n",
       " think       1\n",
       " got         1\n",
       " folded      1\n",
       " caught      1\n",
       " and         1\n",
       "Name: 0, Length: 86, dtype: int64"
      ]
     },
     "execution_count": 4,
     "metadata": {},
     "output_type": "execute_result"
    }
   ],
   "source": [
    "# Find all the words that come after \"Alice\" in the text and count their frequency\n",
    "p = # YOUR REGEX STRING HERE\n",
    "alice_df['text'].str.extractall(p, flags=re.I)[0].value_counts()"
   ]
  },
  {
   "cell_type": "code",
   "execution_count": 5,
   "metadata": {},
   "outputs": [
    {
     "data": {
      "text/plain": [
       " thought         11\n",
       " could           10\n",
       " replied          8\n",
       " looked           8\n",
       " began            6\n",
       " hastily          4\n",
       " ventured         4\n",
       " waited           3\n",
       " indignantly      3\n",
       " heard            3\n",
       " asked            3\n",
       " called           2\n",
       " remarked         2\n",
       " noticed          2\n",
       " cautiously       2\n",
       " quite            2\n",
       " whispered        2\n",
       " guessed          2\n",
       " again            2\n",
       " herself          1\n",
       " found            1\n",
       " turned           1\n",
       " aloud            1\n",
       " desperately      1\n",
       " loudly           1\n",
       " joined           1\n",
       " gently           1\n",
       " quietly          1\n",
       " sharply          1\n",
       " sadly            1\n",
       " appeared         1\n",
       " opened           1\n",
       " timidly          1\n",
       " glanced          1\n",
       " tried            1\n",
       " after            1\n",
       " would            1\n",
       " laughed          1\n",
       " doubtfully       1\n",
       " started          1\n",
       " severely         1\n",
       " watched          1\n",
       " sighed           1\n",
       " added            1\n",
       " considered       1\n",
       " alone            1\n",
       " dodged           1\n",
       " think            1\n",
       " thoughtfully     1\n",
       " folded           1\n",
       " caught           1\n",
       " recognised       1\n",
       " angrily          1\n",
       " panted           1\n",
       " crouched         1\n",
       " remained         1\n",
       " rather           1\n",
       "Name: 0, dtype: int64"
      ]
     },
     "execution_count": 5,
     "metadata": {},
     "output_type": "execute_result"
    }
   ],
   "source": [
    "# Find all the words 5 letters or longer that come after \"Alice\" in the text and count their frequency\n",
    "p = # YOUR REGEX STRING HERE\n",
    "alice_df['text'].str.extractall(p, flags=re.I)[0].value_counts()"
   ]
  },
  {
   "cell_type": "code",
   "execution_count": 6,
   "metadata": {},
   "outputs": [
    {
     "data": {
      "text/plain": [
       " thought       10\n",
       " could          8\n",
       " looked         7\n",
       " began          5\n",
       " ventured       4\n",
       " replied        3\n",
       " heard          3\n",
       " asked          3\n",
       " called         2\n",
       " guessed        2\n",
       " waited         2\n",
       " remarked       2\n",
       " quite          2\n",
       " again          2\n",
       " whispered      2\n",
       " noticed        2\n",
       " joined         1\n",
       " dodged         1\n",
       " considered     1\n",
       " after          1\n",
       " appeared       1\n",
       " recognised     1\n",
       " tried          1\n",
       " folded         1\n",
       " watched        1\n",
       " started        1\n",
       " turned         1\n",
       " caught         1\n",
       " herself        1\n",
       " added          1\n",
       " alone          1\n",
       " laughed        1\n",
       " would          1\n",
       " crouched       1\n",
       " aloud          1\n",
       " opened         1\n",
       " found          1\n",
       " think          1\n",
       "Name: 0, dtype: int64"
      ]
     },
     "execution_count": 6,
     "metadata": {},
     "output_type": "execute_result"
    }
   ],
   "source": [
    "# Find all the words 5 letters or longer that don't end in \"ly\" that come after \"Alice\" in the text and count their frequency\n",
    "p = # YOUR REGEX STRING HERE\n",
    "alice_df['text'].str.extractall(p, flags=re.I)[0].value_counts()"
   ]
  },
  {
   "cell_type": "code",
   "execution_count": null,
   "metadata": {
    "collapsed": true
   },
   "outputs": [],
   "source": []
  }
 ],
 "metadata": {
  "kernelspec": {
   "display_name": "Python 3 (ipykernel)",
   "language": "python",
   "name": "python3"
  },
  "language_info": {
   "codemirror_mode": {
    "name": "ipython",
    "version": 3
   },
   "file_extension": ".py",
   "mimetype": "text/x-python",
   "name": "python",
   "nbconvert_exporter": "python",
   "pygments_lexer": "ipython3",
   "version": "3.7.11"
  }
 },
 "nbformat": 4,
 "nbformat_minor": 2
}
